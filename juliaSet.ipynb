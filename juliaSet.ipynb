{
 "cells": [
  {
   "cell_type": "markdown",
   "id": "c848d73d-d226-441e-8add-446a795bc211",
   "metadata": {},
   "source": [
    "Import The Libraries"
   ]
  },
  {
   "cell_type": "code",
   "execution_count": 1,
   "id": "8d82da52-8a93-4ac7-a758-b41764a15d7b",
   "metadata": {},
   "outputs": [
    {
     "name": "stdout",
     "output_type": "stream",
     "text": [
      "pygame 2.6.0 (SDL 2.28.4, Python 3.12.5)\n",
      "Hello from the pygame community. https://www.pygame.org/contribute.html\n"
     ]
    }
   ],
   "source": [
    "import pygame as pg\n",
    "import numpy as np\n",
    "import numba"
   ]
  },
  {
   "cell_type": "code",
   "execution_count": 21,
   "id": "f86b4d43-7849-43eb-813f-019bf4f5e05a",
   "metadata": {},
   "outputs": [],
   "source": [
    "res = width, height = 600, 500 # Equlivant to res = (width, height)\n",
    "maxItteration = 500\n",
    "zoom = 3.1 / width\n",
    "offset = np.array([1 * width, height]) // 2\n",
    "\n",
    "texture = pg.image.load('texture.jpg') # Load the texture file\n",
    "textureSize = min(texture.get_size()) - 1 # Get the size of the texture\n",
    "textureArray = pg.surfarray.array3d(texture) # Make a pygame pixel array of the texture\n",
    "\n",
    "class juliaFractal:\n",
    "    def __init__(self, app):\n",
    "        self.app = app;\n",
    "        self.screenArray = np.full((width, height, 3), [0,0,0], dtype = np.uint8)\n",
    "        '''\n",
    "        The np.full command creates an array in this case with 3 deminsions, where the deminsions\n",
    "        are given by the width, height, and 3. And initialzies the array to 0 at first with the\n",
    "        datatype of unsigned int 8 bits which has a max of 255 which perfectly matches to RGB.\n",
    "        '''\n",
    "        \n",
    "    @staticmethod\n",
    "    @numba.njit(fastmath = True)\n",
    "    def render(screenArray, realNumber, complexNumer):\n",
    "        c = complex(realNumber, complexNumer)\n",
    "        \n",
    "        for x in numba.prange(width):\n",
    "            for y in numba.prange(height):\n",
    "                z = ((x - offset[0]) * zoom) + (1j * (y - offset[1]) * zoom)  # Now z varies based on pixel position\n",
    "                \n",
    "                numberOfItteration = 0\n",
    "\n",
    "                for i in numba.prange(maxItteration):\n",
    "                    z = z ** 2 + c\n",
    "\n",
    "                    if (z.real ** 2 + z.imag ** 2 > 16):\n",
    "                        break\n",
    "                    \n",
    "                    numberOfItteration += 1\n",
    "                \n",
    "                colums = int(textureSize * numberOfItteration / maxItteration)\n",
    "                screenArray[x, y] = textureArray[colums, colums]\n",
    "\n",
    "        return screenArray\n",
    "    \n",
    "    def update(self):\n",
    "        self.screenArray = self.render(self.screenArray, .28, 0.008)\n",
    "\n",
    "    def draw(self):\n",
    "        pg.surfarray.blit_array(self.app.screen, self.screenArray)\n",
    "\n",
    "        '''\n",
    "        The function pg.surfarray.blit_array in Pygame is used to copy pixel data from a NumPy array\n",
    "        onto a pygame.Surface. Essentially, it allows you to update a Surface with pixel values directly\n",
    "        from an array. Here’s a detailed explanation of what it does:\n",
    "        '''\n",
    "    \n",
    "    def run(self):\n",
    "        self.update()\n",
    "        self.draw()\n",
    "\n",
    "class juliaApp: # Creates the GUI game loop\n",
    "    def __init__(self):\n",
    "        self.screen = pg.display.set_mode(res, pg.SCALED) # Sets the display of the window\n",
    "        self.clock = pg.time.Clock() # pg.time.Clock() creates a Clock object, which you can use to regulate how fast the game loop runs\n",
    "        self.julia = juliaFractal(self)\n",
    "    \n",
    "    def run(self): # Self explanitory code, this is the game loop\n",
    "        running = True\n",
    "        \n",
    "        while (running):\n",
    "            for events in pg.event.get():\n",
    "                if (events.type == pg.QUIT): # If the 'x' button is pressed the application closes\n",
    "                    running = False\n",
    "\n",
    "                if (events.type == pg.KEYDOWN): # If the letter 'q' is pressed the application closes\n",
    "                    if (events.key == pg.K_q):\n",
    "                        running = False\n",
    "\n",
    "            self.screen.fill('black') # Makes the background balck\n",
    "            self.clock.tick()\n",
    "            self.julia.run()\n",
    "            pg.display.flip() # Updates the window\n",
    "\n",
    "            pg.display.set_caption(f'FPS: {self.clock.get_fps()}')  # Set the window caption to display the FPS\n",
    "\n",
    "        pg.quit() # Closes the pygame client\n",
    "\n",
    "def main():\n",
    "    app = juliaApp()\n",
    "    app.run()\n",
    "\n",
    "if __name__ == '__main__':\n",
    "    main()\n"
   ]
  },
  {
   "cell_type": "code",
   "execution_count": null,
   "id": "d81270a4-683a-4d53-885a-2a54d3c6cd9f",
   "metadata": {},
   "outputs": [],
   "source": []
  }
 ],
 "metadata": {
  "kernelspec": {
   "display_name": "Python 3 (ipykernel)",
   "language": "python",
   "name": "python3"
  },
  "language_info": {
   "codemirror_mode": {
    "name": "ipython",
    "version": 3
   },
   "file_extension": ".py",
   "mimetype": "text/x-python",
   "name": "python",
   "nbconvert_exporter": "python",
   "pygments_lexer": "ipython3",
   "version": "3.12.5"
  }
 },
 "nbformat": 4,
 "nbformat_minor": 5
}
